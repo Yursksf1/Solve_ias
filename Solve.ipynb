{
 "cells": [
  {
   "cell_type": "markdown",
   "metadata": {},
   "source": [
    "# Respuestas de Prueba ias\n",
    "**By: Yurley Sanchez**\n",
    "\n",
    "En el siguiente readme se hace entrega de las soluciones propuestas a los ejercicios enunciados. \n",
    "\n",
    "\n",
    "## Problem 1 - Python\n",
    "Escriba un programa en *python* que dado una lista de string tenga como salida los sigientes casos.\n",
    "\n",
    "- alternate([\"abc\",\"123\",\"xyz\"]) => \"a1xb2yc3z\"\n",
    "- alternate([\"abc\",\"1\"]) => \"a1bc\"\n",
    "- alternate([\"abcd\",\"1\",\"x\"]) => \"a1xb2cd\"\n",
    "- alternate([\"ab\",\"1234\"]) => \"a1b234\""
   ]
  },
  {
   "cell_type": "code",
   "execution_count": 3,
   "metadata": {},
   "outputs": [],
   "source": [
    "def getValor(a,i,j):\n",
    "    try:\n",
    "        return a[i][j]\n",
    "    except:\n",
    "        return \"\""
   ]
  },
  {
   "cell_type": "code",
   "execution_count": 4,
   "metadata": {},
   "outputs": [],
   "source": [
    "def alternate(a):\n",
    "    w = ''\n",
    "    for i in range(0,4):\n",
    "        for j in range(0,4):\n",
    "            w += getValor(a,j,i)\n",
    "    return w"
   ]
  },
  {
   "cell_type": "markdown",
   "metadata": {},
   "source": [
    "# Test"
   ]
  },
  {
   "cell_type": "code",
   "execution_count": 5,
   "metadata": {},
   "outputs": [
    {
     "name": "stdout",
     "output_type": "stream",
     "text": [
      "a1xb2yc3z\n",
      "a1bc\n",
      "a1xb2cd\n",
      "a1b234\n"
     ]
    }
   ],
   "source": [
    "print (alternate([\"abc\",\"123\",\"xyz\"]))\n",
    "print (alternate([\"abc\",\"1\"]))\n",
    "print (alternate([\"abcd\",\"12\",\"x\"]))\n",
    "print (alternate([\"ab\",\"1234\"]))"
   ]
  },
  {
   "cell_type": "markdown",
   "metadata": {},
   "source": [
    "## Problem 2 - JavaScript\n",
    "Escriba un programa en *Javascript* que dado una lista de string tenga como salida los siguientes casos.\n",
    "\n",
    "- alternate([\"abc\",\"123\",\"xyz\"]) => \"a1xb2yc3z\"\n",
    "- alternate([\"abc\",\"1\"]) => \"a1bc\"\n",
    "- alternate([\"abcd\",\"1\",\"x\"]) => \"a1xb2cd\"\n",
    "- alternate([\"ab\",\"1234\"]) => \"a1b234\""
   ]
  },
  {
   "cell_type": "markdown",
   "metadata": {},
   "source": [
    "```javascript\n",
    "function getValor(a,i,j){\n",
    "    try {\n",
    "        if (a[i][j]){\n",
    "            return a[i][j];\n",
    "        }\n",
    "        return \"\";\n",
    "    }\n",
    "    catch(err){\n",
    "        return \"\";\n",
    "    }\n",
    "}\n",
    "\n",
    "function alternate(a){\n",
    "    w=\"\";\n",
    "    for(i=0; i<5; i++){\n",
    "        for(j=0; j<5; j++){\n",
    "            w = w + getValor(a,j,i);\n",
    "        }\n",
    "    return w;\n",
    "    }\n",
    "}\n",
    "```"
   ]
  },
  {
   "cell_type": "markdown",
   "metadata": {},
   "source": [
    "### Test"
   ]
  },
  {
   "cell_type": "markdown",
   "metadata": {},
   "source": [
    "```javascript\n",
    "alternate([\"abc\",\"123\",\"xyz\"])\n",
    "alternate([\"abc\",\"1\"])\n",
    "alternate([\"abcd\",\"12\",\"x\"])\n",
    "alternate([\"ab\",\"1234\"])\n",
    "```"
   ]
  },
  {
   "cell_type": "markdown",
   "metadata": {},
   "source": [
    "## Problem 3 - SQL\n",
    "Escriba una instrucción SQL para encontraraquellas filas de la tabla *testtable* que contiene el guión bajo del carácter de escape (_) en su columna *'col1'*\n",
    "\n",
    "- A001/DJ-402\\44_/100/2015\n",
    "- A001_\\DJ-402\\44_/100/2015\n",
    "- A001_DJ-402-2014-2015\n",
    "- A002_DJ-401-2014-2015\n",
    "- A001/DJ-401\n",
    "- A001/DJ-402\\44\n",
    "- A001/DJ-402\\44\\2015\n",
    "- A001/DJ-402%45\\2015/200\n",
    "- A001/DJ-402\\45\\2015%100\n",
    "- A001/DJ-402%45\\2015/300\n",
    "- A001/DJ-402\\44\n"
   ]
  },
  {
   "cell_type": "markdown",
   "metadata": {},
   "source": [
    "```sql\n",
    "SELECT * FROM testtable WHERE col1 LIKE '%\\_%' ESCAPE '\\';\n",
    "```"
   ]
  },
  {
   "cell_type": "markdown",
   "metadata": {},
   "source": [
    "| id     | col1    | \n",
    "| --------|---------|\n",
    "| 1 | A001/DJ-402\\44_/100/2015\" |\n",
    "| 2 | A001_\\DJ-402\\44_/100/2015\" |\n",
    "| 3 | A001_DJ-402-2014-2015\" |\n",
    "| 4 | A002_DJ-401-2014-2015\" |\n",
    "| 5 | A001/DJ_401\" |\n",
    "| 6 | A001/DJ_402\\44\" |\n",
    "| 7 | A001/DJ_402\\44\\2015\" |\n",
    "| 9 | A001/DJ_402\\45\\2015%100\" |\n",
    "| 10 | A001/DJ_402%45\\2015/300\" |"
   ]
  },
  {
   "cell_type": "code",
   "execution_count": null,
   "metadata": {},
   "outputs": [],
   "source": []
  }
 ],
 "metadata": {
  "kernelspec": {
   "display_name": "Python 3",
   "language": "python",
   "name": "python3"
  },
  "language_info": {
   "codemirror_mode": {
    "name": "ipython",
    "version": 3
   },
   "file_extension": ".py",
   "mimetype": "text/x-python",
   "name": "python",
   "nbconvert_exporter": "python",
   "pygments_lexer": "ipython3",
   "version": "3.6.3"
  }
 },
 "nbformat": 4,
 "nbformat_minor": 2
}
